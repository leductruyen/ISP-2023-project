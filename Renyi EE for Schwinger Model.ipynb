{
 "cells": [
  {
   "cell_type": "code",
   "execution_count": 1,
   "metadata": {},
   "outputs": [],
   "source": [
    "from qiskit import QuantumCircuit, transpile, QuantumRegister,ClassicalRegister ,execute, Aer\n",
    "from qiskit.circuit.library import TwoLocal, EfficientSU2, RealAmplitudes\n",
    "from qiskit.primitives import Estimator, Sampler\n",
    "from qiskit_algorithms.minimum_eigensolvers import VQE \n",
    "from qiskit_algorithms.optimizers import COBYLA, SPSA\n",
    "from qiskit.quantum_info import SparsePauliOp, Pauli, state_fidelity, random_statevector\n",
    "from qiskit.extensions import RZGate, UnitaryGate\n",
    "from qiskit.quantum_info import Operator, Statevector\n",
    "from numpy import sqrt, diag, array,conjugate,transpose, append, dot, abs, pi, linalg, log, sqrt,arange, mean, std, exp\n",
    "import matplotlib.pyplot as plt\n",
    "from matplotlib.ticker import FormatStrFormatter\n",
    "from random import *"
   ]
  },
  {
   "cell_type": "markdown",
   "metadata": {},
   "source": [
    "# Calculation of 2-nd Renyi entanglement entropy"
   ]
  },
  {
   "cell_type": "code",
   "execution_count": 2,
   "metadata": {},
   "outputs": [],
   "source": [
    "# Number of sites\n",
    "N = 2\n",
    "# Reduced region (list of qubits) to calculate reduced density matrix\n",
    "A = [0]\n",
    "# Create a random quantum state\n",
    "state_list = random_statevector(2**N,seed=100)"
   ]
  },
  {
   "cell_type": "markdown",
   "metadata": {},
   "source": [
    "**Matrix representation of JW transformation**"
   ]
  },
  {
   "cell_type": "markdown",
   "metadata": {},
   "source": [
    "Jordan-Wigner transformation is defined: $$\\phi_n = \\prod_{l<n}\\left(i\\sigma^Z_l\\right)\\sigma^-_n.$$\n",
    "Our purpose is finding uinirary operator represetation of JW transformation such that $$U_{JW}\\ket{Lattice} = \\ket{Spin}.$$ For example for 2-modes lattice, we have $$\\ket{00} (\\text{Lattice basis})\\rightarrow \\ket{\\downarrow \\downarrow} (\\text{Spin chain basis})$$ \n",
    "$$\\ket{10}  = \\phi^\\dagger_2 \\ket{00} \\rightarrow \\prod_{l<2}\\left(-i \\sigma^z_l \\right) \\sigma_2^+ \\ket{\\downarrow \\downarrow} = i\\ket{\\uparrow \\downarrow}$$\n",
    "$$\\ket{01}  = \\phi^\\dagger_1 \\ket{00} \\rightarrow  \\sigma_1^+ \\ket{\\downarrow \\downarrow} = \\ket{\\downarrow \\uparrow}$$\n",
    "$$\\ket{11}  = \\phi^\\dagger_1 \\phi^\\dagger_2 \\ket{00} \\rightarrow \\sigma_1^+ \\prod_{l<2}\\left(-i \\sigma^z_l \\right) \\sigma_2^+ \\ket{\\downarrow \\downarrow}= i \\ket{\\uparrow \\uparrow}$$\n",
    "Then, we have a diagonal form of JW transformation operator $$\\left[U^2_{JW}\\right]_{\\alpha,i}=Diag\\left(1,1,i,i\\right),$$\n",
    "where $\\alpha \\equiv$ spin chain basis and $i \\equiv$ lattice basis. The generalization for N-modes lattice of JW operator \n",
    "$$\\left[U^N_{JW}\\right]_{\\alpha,i} = \\left[U^{N-1}_{JW}\\right]_{\\alpha,i}\\oplus i^{N-1} \\left[U^{N-1}_{JW}\\right]_{\\alpha,i},$$\n",
    "where $Diag(a_1,\\dots, a_n) \\oplus Diag(b_1,\\dots,b_m) = Diag(a_1,\\dots, a_n,b_1,\\dots,b_m)$ and $\\left[U^1_{JW}\\right]_{\\alpha,i} = \\mathbb{I}_{2x2}$."
   ]
  },
  {
   "cell_type": "code",
   "execution_count": 3,
   "metadata": {},
   "outputs": [],
   "source": [
    "# Create an Inverse Jordan Wigner transformation matrix U^dagger_JW |SP> -> |Sc> (|Lattice>)\n",
    "def gate_JW(N):\n",
    "   JWM = array([1,1])\n",
    "   for i in range(1,N):\n",
    "      JWM = append(JWM ,(-1j)**(i)*JWM)\n",
    "   # Change the order because we assigned |00..0>_sc = |11..1>_sp\n",
    "   JWM = list(reversed(JWM))\n",
    "   # Create diagonal JW transformation matrix \n",
    "   Uni_JW = diag(JWM)\n",
    "   # Put into gate representation\n",
    "   gate_JW = UnitaryGate(Uni_JW,label='JW')\n",
    "   return gate_JW"
   ]
  },
  {
   "cell_type": "markdown",
   "metadata": {},
   "source": [
    "Apply JW transformation to work in Schwinger basis"
   ]
  },
  {
   "cell_type": "code",
   "execution_count": 40,
   "metadata": {},
   "outputs": [
    {
     "data": {
      "image/png": "[encoded data removed]",
      "text/plain": [
       "<Figure size 705.35x200.667 with 1 Axes>"
      ]
     },
     "execution_count": 40,
     "metadata": {},
     "output_type": "execute_result"
    }
   ],
   "source": [
    "qc = QuantumCircuit(N)\n",
    "# Initialize state\n",
    "qc.initialize(state_list,qc.qubits)\n",
    "# Aplly JW transformation operator\n",
    "# qc.unitary(Uni_JW ,[ i for i in range(N)],label='JW')\n",
    "qc.append(gate_JW(N),[ i for i in range(N)])\n",
    "qc.draw('mpl')"
   ]
  },
  {
   "cell_type": "markdown",
   "metadata": {},
   "source": [
    "Built  $|\\psi\\rangle$ and $\\langle\\psi|$ circuits"
   ]
  },
  {
   "cell_type": "code",
   "execution_count": 41,
   "metadata": {},
   "outputs": [],
   "source": [
    "# Transpile circuit to basic gates\n",
    "tran_qc = transpile(qc,basis_gates=['cx','rz','rx','ry'])\n",
    "# Combine into one state representation\n",
    "State=tran_qc.to_gate(label=r' $|\\psi\\rangle$ ')\n",
    "# Create the conjugate state\n",
    "conjState=tran_qc.inverse().to_gate(label=r' $\\langle\\psi|$ ')"
   ]
  },
  {
   "cell_type": "markdown",
   "metadata": {},
   "source": [
    "**SWAP gate measurement of calculating 2-nd Renyi EE**"
   ]
  },
  {
   "cell_type": "markdown",
   "metadata": {},
   "source": [
    "nth-Renyi Entanglement Entropy is defined\n",
    "$$S^n_A = \\frac{1}{1-n}Log\\left[Tr\\left(\\rho^n_A\\right)\\right],$$ \n",
    "when $n \\rightarrow 1$ then $S^n_A \\rightarrow S_A = -Tr\\left[\\rho_A log\\left(\\rho_A\\right)\\right]$ called Von Neumann entropy. To calculate the n-th Renyi entropy, the algorithm is formulated using replicated circuits $\\ket{\\psi} \\rightarrow \\left\\{\\ket{\\psi_1},\\ket{\\psi_2},\\dots, \\ket{\\psi_n}\\right\\}$ , and  SWAP_A gate which swap linearly $\\left(A_1 \\leftrightarrow A_2 \\leftrightarrow A_3 \\leftrightarrow ... \\leftrightarrow A_{n-1} \\leftrightarrow A_n \\right)$ A-qubits in the replicated set of $\\ket{\\psi}$\n",
    "$$Tr\\left(\\rho^n_A\\right) = \\bra{\\psi_n}\\otimes\\dots\\otimes\\bra{\\psi_2}\\otimes\\bra{\\psi_1} SWAP_A \\ket{\\psi_1}\\otimes\\ket{\\psi_2}\\otimes\\dots\\otimes\\ket{\\psi_n}.$$ \n",
    "In 2-nd Renyi entropy, we get\n",
    "$$Tr\\left(\\rho^2_A\\right) = \\bra{\\psi_2}\\otimes\\bra{\\psi_1} SWAP_A \\ket{\\psi_1}\\otimes\\ket{\\psi_2}.$$ "
   ]
  },
  {
   "cell_type": "markdown",
   "metadata": {},
   "source": [
    "To deploy the SWAP method, duplicate circuit is needed"
   ]
  },
  {
   "cell_type": "code",
   "execution_count": 42,
   "metadata": {},
   "outputs": [
    {
     "data": {
      "image/png": "[encoded data removed]",
      "text/plain": [
       "<Figure size 371.107x367.889 with 1 Axes>"
      ]
     },
     "execution_count": 42,
     "metadata": {},
     "output_type": "execute_result"
    }
   ],
   "source": [
    "# Create douplicate circuit\n",
    "totalqc = QuantumCircuit(2*N)\n",
    "# Create the state 1\n",
    "totalqc.append(State,[i for i in range(N)])\n",
    "# Create the state 2\n",
    "totalqc.append(State,[i for i in range(N,2*N)])\n",
    "# Apply SWAP gate\n",
    "for i in A:\n",
    "    totalqc.swap(i,N+i)\n",
    "# Create the conjugate state 1\n",
    "totalqc.append(conjState,[i for i in range(N)])\n",
    "# Create the conjugate state 2\n",
    "totalqc.append(conjState,[i for i in range(N,2*N)])\n",
    "totalqc.draw('mpl')"
   ]
  },
  {
   "cell_type": "code",
   "execution_count": 4,
   "metadata": {},
   "outputs": [],
   "source": [
    "# circuit for measurement\n",
    "def meas(N):\n",
    "    q = QuantumRegister(2*N,'q')\n",
    "    c = ClassicalRegister(2*N)\n",
    "    meas = QuantumCircuit(q,c)\n",
    "    meas.measure(q[0:2*N],c[0:2*N])\n",
    "    return meas"
   ]
  },
  {
   "cell_type": "code",
   "execution_count": 44,
   "metadata": {},
   "outputs": [
    {
     "data": {
      "image/png": "[encoded data removed]",
      "text/plain": [
       "<Figure size 721.581x451.5 with 1 Axes>"
      ]
     },
     "execution_count": 44,
     "metadata": {},
     "output_type": "execute_result"
    }
   ],
   "source": [
    "# Make measurement\n",
    "totalqc_meas = totalqc.compose(meas(N))\n",
    "totalqc_meas.draw('mpl')"
   ]
  },
  {
   "cell_type": "markdown",
   "metadata": {},
   "source": [
    "*Get the squared absolute value of trace of squared reduced density matrix*"
   ]
  },
  {
   "cell_type": "markdown",
   "metadata": {},
   "source": [
    "- Sampler backend running\n"
   ]
  },
  {
   "cell_type": "code",
   "execution_count": 45,
   "metadata": {},
   "outputs": [
    {
     "data": {
      "text/plain": [
       "0.6674"
      ]
     },
     "execution_count": 45,
     "metadata": {},
     "output_type": "execute_result"
    }
   ],
   "source": [
    "# Use sampling backend to sample circuit\n",
    "# Define how many samples to estimate\n",
    "shot_times=10000\n",
    "# Define the backend\n",
    "simulator = Aer.get_backend('qasm_simulator')\n",
    "# Execute circuit\n",
    "job = execute(totalqc_meas, simulator,shots=shot_times)\n",
    "# Get counts\n",
    "result = job.result().get_counts(totalqc_meas)\n",
    "# Define the bit string in computational basis (0,1)\n",
    "bitstr0 = '0'*2*N\n",
    "# Get probability\n",
    "result[bitstr0]/shot_times"
   ]
  },
  {
   "cell_type": "markdown",
   "metadata": {},
   "source": [
    "- Exact probability calculation"
   ]
  },
  {
   "cell_type": "code",
   "execution_count": 46,
   "metadata": {},
   "outputs": [
    {
     "name": "stdout",
     "output_type": "stream",
     "text": [
      "0.6613582819789576\n"
     ]
    }
   ],
   "source": [
    "# Get exactly probability\n",
    "EE = Statevector(totalqc).probabilities([i for i in range(2*N)])[0]\n",
    "print(EE)"
   ]
  },
  {
   "cell_type": "markdown",
   "metadata": {},
   "source": [
    "**Real Gate Implementation of JW transformation**"
   ]
  },
  {
   "cell_type": "markdown",
   "metadata": {},
   "source": [
    "Because of being in pratical, a gate is composed of basic single qubit rotation gates, we thus have to implement JW transformation is terms of basic single qubit gates"
   ]
  },
  {
   "cell_type": "code",
   "execution_count": 47,
   "metadata": {},
   "outputs": [
    {
     "data": {
      "image/png": "[encoded data removed]",
      "text/plain": [
       "<Figure size 705.35x200.667 with 1 Axes>"
      ]
     },
     "execution_count": 47,
     "metadata": {},
     "output_type": "execute_result"
    }
   ],
   "source": [
    "Cusqc = QuantumCircuit(N)\n",
    "# Initialize a state\n",
    "Cusqc.initialize(state_list,Cusqc.qubits)\n",
    "# Apply JW transformation in terms of basis gate\n",
    "for i in range(1,N):\n",
    "   # Because JW transformation is simply a diagonal matrix, then we just simply do implement the phase rotaion RZ\n",
    "   Cusqc.rz(i*pi/2,i)\n",
    "Cusqc.draw('mpl')"
   ]
  },
  {
   "cell_type": "markdown",
   "metadata": {},
   "source": [
    "Check fidelity between JW transformation matrix based gate and pratical gate"
   ]
  },
  {
   "cell_type": "code",
   "execution_count": 48,
   "metadata": {},
   "outputs": [
    {
     "data": {
      "text/plain": [
       "0.9999999999999998"
      ]
     },
     "execution_count": 48,
     "metadata": {},
     "output_type": "execute_result"
    }
   ],
   "source": [
    "bitstr0 = '0'*N\n",
    "inista = Statevector.from_label(bitstr0)\n",
    "sv1 = inista.evolve(qc).data\n",
    "sv2 = inista.evolve(Cusqc)\n",
    "sv2 = conjugate(sv2.data)\n",
    "abs(dot(sv2,sv1))"
   ]
  },
  {
   "cell_type": "markdown",
   "metadata": {},
   "source": [
    "Congrats !!! \"1\" means these are the same, and we implemented JW operator correctly"
   ]
  },
  {
   "cell_type": "markdown",
   "metadata": {},
   "source": [
    "**Check 2-mode Schwinger model example in analytical calculation**"
   ]
  },
  {
   "cell_type": "markdown",
   "metadata": {},
   "source": [
    "- Consider a state in spin chain basic:\n",
    "$$ |\\psi\\rangle_{sp} = c_0|\\uparrow\\uparrow\\rangle+c_1|\\uparrow\\downarrow\\rangle+c_2|\\downarrow\\uparrow\\rangle+c_3|\\downarrow\\downarrow\\rangle, $$\n",
    "after Jordan-Wigner transformation it gets the form\n",
    "$$ U^\\dagger_{JW}|\\psi\\rangle_{sp} = |\\psi\\rangle_{Sc} = -i c_0|11\\rangle - i c_1|10\\rangle+c_2|01\\rangle+c_3|00\\rangle , $$\n",
    "where $$\\left[U^\\dagger_{JW}\\right]_{i\\alpha} = \\left(\\begin{array}{c}1&0&0&0\\\\ 0&1&0&0 \\\\ 0&0&-i&0 \\\\ 0&0&0&-i\\end{array}\\right) $$ is a diagonal matrix in two bases, $i$ is the spin chain basis and $\\alpha$ is the Schwinger basis.\n",
    "- Choose the qubit 2 as a subsystem to calculate reduced density matrix, then\n",
    "$$\\rho_A = \\left(\\begin{array}{c}|c_3|^2+|c_1|^2&c^*_0c_1+c^*_2c_3\\\\c_1c_0^*+c_2c_3^*&|c_0|^2+|c_2|^2\\end{array}\\right)$$\n",
    "$$\\Rightarrow \\text{Tr}\\left[\\rho_A^2\\right] = \\sum_{i=0}^3\\left(|c_i|^2\\right)^2-2\\left(|c_3|^2|c_0|^2+|c_2|^2|c_1|^2\\right)+4\\text(Re)\\left(c_0^*c_1c_2c_3^*\\right),$$\n",
    "or the second order Renyi EE\n",
    "$$ S^2_A = -\\text{Log}\\left[\\sum_{i=0}^3\\left(|c_i|^2\\right)^2-2\\left(|c_3|^2|c_0|^2+|c_2|^2|c_1|^2\\right)+4\\text(Re)\\left(c_0^*c_1c_2c_3^*\\right)\\right]$$"
   ]
  },
  {
   "cell_type": "code",
   "execution_count": 49,
   "metadata": {},
   "outputs": [
    {
     "name": "stdout",
     "output_type": "stream",
     "text": [
      "0.6613582819789573\n"
     ]
    }
   ],
   "source": [
    "# Implement the formula above\n",
    "Tr_rho_2 = 0\n",
    "for i in state_list:\n",
    "    Tr_rho_2+=abs(i)**2\n",
    "Tr_rho_2 = Tr_rho_2**2 + 4*(state_list[0].conjugate()*state_list[1]*state_list[2]*state_list[3].conjugate()).real - 2*abs(state_list[1])**2*abs(state_list[2])**2-2*abs(state_list[0])**2*abs(state_list[3])**2\n",
    "print(Tr_rho_2**2)"
   ]
  },
  {
   "cell_type": "markdown",
   "metadata": {},
   "source": [
    "Compare the analytical calculation and the SWAP method in quantum computer"
   ]
  },
  {
   "cell_type": "code",
   "execution_count": 50,
   "metadata": {},
   "outputs": [
    {
     "data": {
      "text/plain": [
       "-3.3306690738754696e-16"
      ]
     },
     "execution_count": 50,
     "metadata": {},
     "output_type": "execute_result"
    }
   ],
   "source": [
    "Tr_rho_2**2-EE"
   ]
  },
  {
   "cell_type": "markdown",
   "metadata": {},
   "source": [
    "$\\approx 0 $, we are on the way "
   ]
  },
  {
   "cell_type": "markdown",
   "metadata": {},
   "source": [
    "# VQE for finding ground state of Schwinger model and calculate 2-nd Renyi EE"
   ]
  },
  {
   "cell_type": "markdown",
   "metadata": {},
   "source": [
    "**Schwinger lattice model Hamiltonian**"
   ]
  },
  {
   "cell_type": "markdown",
   "metadata": {},
   "source": [
    "$$H^{1D}_{Lattice} = -\\frac{1}{2a}\\sum_{n=1}^{N-1}\\left(\\hat{\\phi}_n^\\dagger e^{i\\hat{\\phi}_n}\\hat{\\phi}_{n+1}+ h.c.\\right)+\\frac{g^2 a}{2}\\sum_{n=1}^{N-1} \\hat{L}_{n,n+1} + \\mu \\sum_{n=1}^N (-1)^n\\hat{\\phi}_n^\\dagger\\hat{\\phi}_n,$$\n",
    "after Jordan-Wigner transformation $$\\phi_n = \\prod_{l<n}\\left(i\\sigma^Z_l\\right)\\sigma^-_n$$\n",
    "and Gauss's law to eliminate gauge redundancy d.o.f. $$\\hat{L}_{n,n+1}=\\epsilon_0 + \\frac{1}{2}\\sum_{i=1}^n\\left[\\sigma^z_i+(-1)^i\\right].$$\n",
    "Finally, we get the Schwinger model Hamiltonian in Spin chain form $$H^{1D}_{Spin}= \\frac{1}{2a}\\sum_{n=1}^{N-1}\\left(\\hat{\\sigma}_n^+ \\hat{\\sigma}_{n+1}^-+ h.c.\\right)+\\frac{g^2 a}{8}\\sum_{n=1}^{N-1} \\left[\\sum_{i=1}^n\\left(\\sigma^z_i+(-1)^i\\right)\\right]^2 + \\frac{\\mu}{2} \\sum_{n=1}^N (-1)^n\\sigma^z_n,$$\n",
    "we define the dimensionless operator $H^{1D}_{Spin}\\rightarrow \\frac{2}{ag^2}H^{1D}_{Spin}$, then $$H^{1D}_{Spin} = x \\sum_{n=1}^{N-1}\\left(\\hat{\\sigma}_n^+ \\hat{\\sigma}_{n+1}^-+ h.c.\\right)+\\frac{1}{4}\\sum_{n=1}^{N-1} \\left[\\sum_{i=1}^n\\left(\\sigma^z_i+(-1)^i\\right)\\right]^2 + \\frac{m}{2} \\sum_{n=1}^N (-1)^n\\sigma^z_n,$$\n",
    "where two model paramters $x = \\frac{1}{g^2 a^2}$ and $m = \\frac{2\\mu}{g^2 a}.$ Or in the free fermion case $H^{1D}_{Spin}\\rightarrow 2a H^{1D}_{Spin}$ then $m=2 a \\mu$\n",
    "$$H^{1D}_{Spin} = \\sum_{n=1}^{N-1}\\left(\\hat{\\sigma}_n^+ \\hat{\\sigma}_{n+1}^-+ h.c.\\right) + \\frac{m}{2} \\sum_{n=1}^N (-1)^n\\sigma^z_n,$$"
   ]
  },
  {
   "cell_type": "code",
   "execution_count": 5,
   "metadata": {},
   "outputs": [],
   "source": [
    "# Schwinger model in free fermion\n",
    "def Hamil_Schw_free(N,m):\n",
    "    Hamil_Schw = 0\n",
    "    Hamil_Schw_kin_list= []\n",
    "    Hamil_Schw_mass_list= []\n",
    "    for i in range(N-1):\n",
    "        # Create mass terms\n",
    "        Hamil_Schw_mass_list.append((\"Z\", [i], (-1)**(i+1)*m/2))\n",
    "        if i == (N-2):\n",
    "            Hamil_Schw_mass_list.append((\"Z\", [i+1], (-1)**(i+2)*m/2))\n",
    "        # Create kinematic terms\n",
    "        Hamil_Schw_kin_list.append(((\"XX\", [i,i+1], 1/2)))\n",
    "        Hamil_Schw_kin_list.append(((\"YY\", [i,i+1], 1/2)))\n",
    "    # Get in total\n",
    "    Hamil_Schw = Hamil_Schw_kin_list+Hamil_Schw_mass_list\n",
    "    # Create Hamiltonian operator from the defined list\n",
    "    Hamil_Schw = SparsePauliOp.from_sparse_list(Hamil_Schw, num_qubits=N)\n",
    "    return Hamil_Schw"
   ]
  },
  {
   "cell_type": "code",
   "execution_count": null,
   "metadata": {},
   "outputs": [],
   "source": [
    "# Full Schwinger model\n",
    "def Hamil_Schw(N,m,x):\n",
    "    Hamil_Schw = 0\n",
    "    Hamil_Schw_kin_list= []\n",
    "    Hamil_Schw_mass_list= []\n",
    "    Hamil_Schw_gauge_list= []\n",
    "    for i in range(N-1):\n",
    "        # Create mass terms\n",
    "        Hamil_Schw_mass_list.append((\"Z\", [i], (-1)**(i+1)*m/2))\n",
    "        if i == (N-2):\n",
    "            Hamil_Schw_mass_list.append((\"Z\", [i+1], (-1)**(i+2)*m/2))\n",
    "        # Create kinematic terms\n",
    "        Hamil_Schw_kin_list.append(((\"XX\", [i,i+1], x/2)))\n",
    "        Hamil_Schw_kin_list.append(((\"YY\", [i,i+1], x/2)))\n",
    "        # Create gauge terms\n",
    "        if i % 2 ==0:\n",
    "            for j in range(i+1):\n",
    "                Hamil_Schw_gauge_list.append((\"Z\", [j], -1/2))\n",
    "        for j in range(i):\n",
    "            for k in range(j+1,i+1):\n",
    "                Hamil_Schw_gauge_list.append((\"ZZ\",[j,k],1/2))\n",
    "    # Get in total\n",
    "    Hamil_Schw = Hamil_Schw_kin_list+Hamil_Schw_mass_list+Hamil_Schw_gauge_list\n",
    "    # Create Hamiltonian operator from the defined list\n",
    "    Hamil_Schw = SparsePauliOp.from_sparse_list(Hamil_Schw, num_qubits=N)\n",
    "    return Hamil_Schw\n"
   ]
  },
  {
   "cell_type": "markdown",
   "metadata": {},
   "source": [
    "**Classical method**"
   ]
  },
  {
   "cell_type": "markdown",
   "metadata": {},
   "source": [
    "Initial inputs"
   ]
  },
  {
   "cell_type": "code",
   "execution_count": 211,
   "metadata": {},
   "outputs": [],
   "source": [
    "# Number of sites\n",
    "N = 3\n",
    "# Reduced region (list of qubits) to calculate reduced density matrix\n",
    "A = [2]"
   ]
  },
  {
   "cell_type": "code",
   "execution_count": 149,
   "metadata": {},
   "outputs": [],
   "source": [
    "m = 2\n",
    "x = 4\n",
    "\n",
    "# Haminlton matrix\n",
    "Hal =  Hamil_Schw(N,m,x)\n",
    "\n",
    "# Classical solver\n",
    "w,v = linalg.eig(Hal)\n",
    "# print(\"Eigenvectors:\",v)\n",
    "# print(\"Eigenvalues:\", w)\n",
    "\n",
    "# Find ground state and energy in ensemble solutions\n",
    "minimum=w[0]\n",
    "min_spot=0\n",
    "for i in range(1,2**N):\n",
    "    if w[i]<minimum:\n",
    "        min_spot=i\n",
    "        minimum=w[i]                   \n",
    "groundstate = v[:,min_spot]\n",
    "# print(\"Ground State\")\n",
    "# print(groundstate)\n",
    "# print(\"Ground Energy\")\n",
    "# print(minimum)"
   ]
  },
  {
   "cell_type": "markdown",
   "metadata": {},
   "source": [
    "*Calculate 2-nd Renyi EE*"
   ]
  },
  {
   "cell_type": "markdown",
   "metadata": {},
   "source": [
    "- Use statevector simulator"
   ]
  },
  {
   "cell_type": "markdown",
   "metadata": {},
   "source": [
    "To get the exact probability"
   ]
  },
  {
   "cell_type": "code",
   "execution_count": 150,
   "metadata": {},
   "outputs": [
    {
     "name": "stdout",
     "output_type": "stream",
     "text": [
      "0.41017548289357547\n"
     ]
    }
   ],
   "source": [
    "cl_test_cir = QuantumCircuit(N)\n",
    "# Initialize state\n",
    "cl_test_cir.initialize(groundstate,cl_test_cir.qubits)\n",
    "cl_test_cir.append(gate_JW(N),[ i for i in range(N)])\n",
    "\n",
    "# Build |psi> and <psi| from transpile circuit\n",
    "tran_cl_test_cir = transpile(cl_test_cir,basis_gates=['cx','rz','rx','ry'])\n",
    "state_cl_test_cir = tran_cl_test_cir.to_gate(label=r' $|\\psi\\rangle$ ')\n",
    "conj_state_cl_test_cir=tran_cl_test_cir.inverse().to_gate(label=r' $\\langle\\psi|$ ') \n",
    "\n",
    "# SWAP gate method circuit for calculating 2-nd Renyi EE\n",
    "total_cl_test_cir = QuantumCircuit(2*N)\n",
    "total_cl_test_cir.append(state_cl_test_cir,[i for i in range(N)])\n",
    "total_cl_test_cir.append(state_cl_test_cir,[i for i in range(N,2*N)])\n",
    "for i in A:\n",
    "    total_cl_test_cir.swap(i,N+i)\n",
    "total_cl_test_cir.append(conj_state_cl_test_cir,[i for i in range(N)])\n",
    "total_cl_test_cir.append(conj_state_cl_test_cir,[i for i in range(N,2*N)])\n",
    "\n",
    "# Get 2-nd Renyi EE value\n",
    "Renyi_EE_cl = Statevector(total_cl_test_cir).probabilities([i for i in range(2*N)])[0]\n",
    "print(Renyi_EE_cl)"
   ]
  },
  {
   "cell_type": "markdown",
   "metadata": {},
   "source": [
    "- Use sampler primitive"
   ]
  },
  {
   "cell_type": "markdown",
   "metadata": {},
   "source": [
    "To get experimental probability"
   ]
  },
  {
   "cell_type": "code",
   "execution_count": 151,
   "metadata": {},
   "outputs": [
    {
     "name": "stdout",
     "output_type": "stream",
     "text": [
      "0.4101754828935754\n"
     ]
    }
   ],
   "source": [
    "# Make measurement in the circuit\n",
    "total_cl_test_cir = total_cl_test_cir.compose(meas(N))\n",
    "\n",
    "# Get 2-nd Renyi EE\n",
    "sampler = Sampler()\n",
    "job = sampler.run(total_cl_test_cir)\n",
    "Renyi_EE_cl = job.result().quasi_dists[0][0]\n",
    "print(Renyi_EE_cl)"
   ]
  },
  {
   "cell_type": "markdown",
   "metadata": {},
   "source": [
    "**VQE**"
   ]
  },
  {
   "cell_type": "markdown",
   "metadata": {},
   "source": [
    "\\* Important: here, I used RealAmplitude ansatz, where the repetition of circuit is arbitrarily defined"
   ]
  },
  {
   "cell_type": "code",
   "execution_count": 152,
   "metadata": {},
   "outputs": [],
   "source": [
    "# VQE Qiskit solver\n",
    "shots = 10000\n",
    "# Get Ising Hamilton operator\n",
    "op = Hamil_Schw(N,m,x)\n",
    "\n",
    "# Initialize estimator\n",
    "estimator = Estimator(options={\"shots\": shots})\n",
    "optimizer = COBYLA(maxiter=1000)\n",
    "\n",
    "# Use RealAmplitude ansatz\n",
    "Ansatz = RealAmplitudes(N, entanglement='linear', reps=7, insert_barriers=False)\n",
    "# Initial parameters: zero point\n",
    "ini_parameters = [0 for i in range(Ansatz.num_parameters)]\n",
    "# Use bult-in qiskit function\n",
    "vqeqiskit = VQE(estimator,Ansatz,optimizer=optimizer,initial_point=ini_parameters)\n",
    "result = vqeqiskit.compute_minimum_eigenvalue(op)"
   ]
  },
  {
   "cell_type": "markdown",
   "metadata": {},
   "source": [
    "Check fidelity between ground state found by VQE and by classical diagonalization method"
   ]
  },
  {
   "cell_type": "code",
   "execution_count": 153,
   "metadata": {},
   "outputs": [],
   "source": [
    "# Assign optimal parameters to create ground state\n",
    "Ground_state_ansatz = Ansatz.assign_parameters(result.optimal_parameters)"
   ]
  },
  {
   "cell_type": "code",
   "execution_count": 154,
   "metadata": {},
   "outputs": [
    {
     "data": {
      "text/plain": [
       "0.999568134125655"
      ]
     },
     "execution_count": 154,
     "metadata": {},
     "output_type": "execute_result"
    }
   ],
   "source": [
    "# Ground_state_conj = inista.evolve(Ground_state_ansatz)\n",
    "# state_conj = conjugate(Ground_state_conj.data)\n",
    "# abs(dot(Ground_state_conj,groundstate))\n",
    "\n",
    "state_fidelity(Statevector(Ground_state_ansatz),Statevector(groundstate))"
   ]
  },
  {
   "cell_type": "markdown",
   "metadata": {},
   "source": [
    "$\\approx 1$, the VQE method seemingly works well in this case. But our concern is, what is the appropriate repetition in RealAmplitude ansatz so that it ensures ansatz being able catch the problem's ground state "
   ]
  },
  {
   "cell_type": "markdown",
   "metadata": {},
   "source": [
    "*Calculate 2-nd Renyi EE*"
   ]
  },
  {
   "cell_type": "code",
   "execution_count": 155,
   "metadata": {},
   "outputs": [
    {
     "name": "stdout",
     "output_type": "stream",
     "text": [
      "0.41\n"
     ]
    }
   ],
   "source": [
    "# Aplly JW transformation gates\n",
    "Ground_state_ansatz.append(gate_JW(N),[ i for i in range(N)])\n",
    "\n",
    "# Build |psi> and <psi| from transpile circuit\n",
    "tran_Ground_state_ansatz = transpile(Ground_state_ansatz,basis_gates=['cx','rz','rx','ry'])\n",
    "state_Ground_state_ansatz = tran_Ground_state_ansatz.to_gate(label=r' $|\\psi\\rangle$ ')\n",
    "conj_Ground_state_ansatz=tran_Ground_state_ansatz.inverse().to_gate(label=r' $\\langle\\psi|$ ') \n",
    "\n",
    "# SWAP gate method circuit for calculating 2-nd Renyi EE\n",
    "total_Ground_state_ansatz = QuantumCircuit(2*N)\n",
    "total_Ground_state_ansatz.append(state_Ground_state_ansatz,[i for i in range(N)])\n",
    "total_Ground_state_ansatz.append(state_Ground_state_ansatz,[i for i in range(N,2*N)])\n",
    "for i in A:\n",
    "    total_Ground_state_ansatz.swap(i,N+i)\n",
    "total_Ground_state_ansatz.append(conj_Ground_state_ansatz,[i for i in range(N)])\n",
    "total_Ground_state_ansatz.append(conj_Ground_state_ansatz,[i for i in range(N,2*N)])\n",
    "total_Ground_state_ansatz = total_Ground_state_ansatz.compose(meas(N))\n",
    "\n",
    "# Get 2-nd Renyi EE\n",
    "shot_times=100\n",
    "sampler = Sampler()\n",
    "job = sampler.run(total_Ground_state_ansatz,shots = shot_times)\n",
    "Renyi_EE_quan = job.result().quasi_dists[0][0]\n",
    "print(Renyi_EE_quan)"
   ]
  },
  {
   "cell_type": "markdown",
   "metadata": {},
   "source": [
    "# Plot the 2-nd Renyi EE in term of mass"
   ]
  },
  {
   "cell_type": "markdown",
   "metadata": {},
   "source": [
    "Initial input"
   ]
  },
  {
   "cell_type": "code",
   "execution_count": 29,
   "metadata": {},
   "outputs": [],
   "source": [
    "# Number of sites\n",
    "N = 7\n",
    "# Reduced region (list of qubits) to calculate reduced density matrix\n",
    "# A = [4]\n",
    "# Set the random number generator to a fixed sequence\n",
    "seed(100)"
   ]
  },
  {
   "cell_type": "code",
   "execution_count": 30,
   "metadata": {},
   "outputs": [
    {
     "name": "stdout",
     "output_type": "stream",
     "text": [
      "[3]\n",
      "[3, 4]\n",
      "[2, 3, 4]\n",
      "[2, 3, 4, 5]\n",
      "[1, 2, 3, 4, 5]\n"
     ]
    }
   ],
   "source": [
    "x = 1\n",
    "m = 1\n",
    "del_t = 0.1\n",
    "M = 200\n",
    "seeds = 100 # Use in (Estimator) and (Sampler.run) to fix randomness\n",
    "cl_re = []\n",
    "qu_re_VQE = []\n",
    "qu_re_AE_1st = []\n",
    "qu_re_AE_2nd = []\n",
    "scale = 8\n",
    "running_list = [[3],[3,4],[2,3,4],[2,3,4,5],[1,2,3,4,5]]\n",
    "shots = 10000 # Set options={\"shots\": shots} in Estimator for qasm simulator\n",
    "# Initialize estimator\n",
    "estimator = Estimator()\n",
    "optimizer = COBYLA(maxiter=1000)\n",
    "# Haminlton matrix\n",
    "Hal =  Hamil_Schw(N,m,x)\n",
    "\n",
    "# Classical solver\n",
    "w,v = linalg.eig(Hal)\n",
    "\n",
    "# Find ground state and energy in ensemble solutions\n",
    "minimum=w[0]\n",
    "min_spot=0\n",
    "for i in range(1,2**N):\n",
    "    if w[i]<minimum:\n",
    "        min_spot=i\n",
    "        minimum=w[i]                   \n",
    "groundstate = v[:,min_spot]\n",
    "\n",
    "cl_test_cir = QuantumCircuit(N)\n",
    "# Initialize state\n",
    "cl_test_cir.initialize(groundstate,cl_test_cir.qubits)\n",
    "cl_test_cir.append(gate_JW(N),[ i for i in range(N)])\n",
    "\n",
    "# Build |psi> and <psi| from transpile circuit\n",
    "tran_cl_test_cir = transpile(cl_test_cir,basis_gates=['cx','rz','rx','ry'])\n",
    "state_cl_test_cir = tran_cl_test_cir.to_gate(label=r' $|\\psi\\rangle$ ')\n",
    "conj_state_cl_test_cir=tran_cl_test_cir.inverse().to_gate(label=r' $\\langle\\psi|$ ') \n",
    "for A in running_list:\n",
    "    print(A)\n",
    "    # SWAP gate method circuit for calculating 2-nd Renyi EE\n",
    "    total_cl_test_cir = QuantumCircuit(2*N)\n",
    "    total_cl_test_cir.append(state_cl_test_cir,[i for i in range(N)])\n",
    "    total_cl_test_cir.append(state_cl_test_cir,[i for i in range(N,2*N)])\n",
    "    for i in A:\n",
    "        total_cl_test_cir.swap(i,N+i)\n",
    "    total_cl_test_cir.append(conj_state_cl_test_cir,[i for i in range(N)])\n",
    "    total_cl_test_cir.append(conj_state_cl_test_cir,[i for i in range(N,2*N)])\n",
    "\n",
    "    # Get 2-nd Renyi EE value\n",
    "    Renyi_EE_cl = Statevector(total_cl_test_cir).probabilities([i for i in range(2*N)])[0]\n",
    "\n",
    "    cl_re.append(Renyi_EE_cl)"
   ]
  },
  {
   "cell_type": "code",
   "execution_count": 31,
   "metadata": {},
   "outputs": [],
   "source": [
    "\n",
    "# Take into account 10 samples\n",
    "# Renyi_EE_quan_list = []\n",
    "# for _ in range(10):\n",
    "# VQE Qiskit solver\n",
    "# Get Ising Hamilton operator\n",
    "op = Hamil_Schw(N,m,x)\n",
    "\n",
    "# Use RealAmplitude ansatz\n",
    "Ansatz = RealAmplitudes(N, entanglement='full', reps=1, insert_barriers=False)\n",
    "ini_parameters = [0 for i in range(Ansatz.num_parameters)]\n",
    "# Use VQE built-in qiskit function\n",
    "vqeqiskit = VQE(estimator,Ansatz,optimizer=optimizer,initial_point=ini_parameters)\n",
    "result = vqeqiskit.compute_minimum_eigenvalue(op)\n",
    "# Get ground state\n",
    "Ground_state_ansatz = Ansatz.assign_parameters(result.optimal_parameters)\n",
    "\n",
    "# Aplly JW transformation gates\n",
    "Ground_state_ansatz.append(gate_JW(N),[ i for i in range(N)])\n",
    "\n",
    "# Build |psi> and <psi| from transpile circuit\n",
    "tran_Ground_state_ansatz = transpile(Ground_state_ansatz,basis_gates=['cx','rz','rx','ry'])\n",
    "state_Ground_state_ansatz = tran_Ground_state_ansatz.to_gate(label=r' $|\\psi\\rangle$ ')\n",
    "conj_Ground_state_ansatz=tran_Ground_state_ansatz.inverse().to_gate(label=r' $\\langle\\psi|$ ') \n",
    "for A in running_list:\n",
    "    # SWAP gate method circuit for calculating 2-nd Renyi EE\n",
    "    total_Ground_state_ansatz = QuantumCircuit(2*N)\n",
    "    total_Ground_state_ansatz.append(state_Ground_state_ansatz,[i for i in range(N)])\n",
    "    total_Ground_state_ansatz.append(state_Ground_state_ansatz,[i for i in range(N,2*N)])\n",
    "    for i in A:\n",
    "        total_Ground_state_ansatz.swap(i,N+i)\n",
    "    total_Ground_state_ansatz.append(conj_Ground_state_ansatz,[i for i in range(N)])\n",
    "    total_Ground_state_ansatz.append(conj_Ground_state_ansatz,[i for i in range(N,2*N)])\n",
    "    total_Ground_state_ansatz = total_Ground_state_ansatz.compose(meas(N))\n",
    "\n",
    "    # Get 2-nd Renyi EE\n",
    "    shot_times=100 # set shots = shot_times in sampler.run for qasm simulator\n",
    "    sampler = Sampler()\n",
    "    job = sampler.run(total_Ground_state_ansatz)\n",
    "    Renyi_EE_quan = job.result().quasi_dists[0][0]\n",
    "        # Renyi_EE_quan_list.append(Renyi_EE_quan)\n",
    "        \n",
    "    qu_re_VQE.append(Renyi_EE_quan)"
   ]
  },
  {
   "cell_type": "code",
   "execution_count": 32,
   "metadata": {},
   "outputs": [],
   "source": [
    "\n",
    "# Take into account 10 samples\n",
    "# Renyi_EE_quan_list_AE = []\n",
    "# for _ in range(10):\n",
    "# Adiabatic Evolution\n",
    "# ground state is |1010...10>\n",
    "AE = QuantumCircuit(N)\n",
    "for i in range(AE.num_qubits):\n",
    "    if i%2 ==1:\n",
    "        AE.x(i)\n",
    "\n",
    "for i in range(M):\n",
    "    AE = H_evol_1st(AE,i,M,m,x,del_t)\n",
    "\n",
    "# Aplly JW transformation gates\n",
    "AE.append(gate_JW(N),[ i for i in range(N)])\n",
    "\n",
    "# Build |psi> and <psi| from transpile circuit\n",
    "tran_Ground_state_ansatz = transpile(AE,basis_gates=['cx','rz','rx','ry'])\n",
    "state_Ground_state_ansatz = tran_Ground_state_ansatz.to_gate(label=r' $|\\psi\\rangle$ ')\n",
    "conj_Ground_state_ansatz = tran_Ground_state_ansatz.inverse().to_gate(label=r' $\\langle\\psi|$ ') \n",
    "for A in running_list:\n",
    "    # SWAP gate method circuit for calculating 2-nd Renyi EE\n",
    "    total_Ground_state_ansatz = QuantumCircuit(2*N)\n",
    "    total_Ground_state_ansatz.append(state_Ground_state_ansatz,[i for i in range(N)])\n",
    "    total_Ground_state_ansatz.append(state_Ground_state_ansatz,[i for i in range(N,2*N)])\n",
    "    for i in A:\n",
    "        total_Ground_state_ansatz.swap(i,N+i)\n",
    "    total_Ground_state_ansatz.append(conj_Ground_state_ansatz,[i for i in range(N)])\n",
    "    total_Ground_state_ansatz.append(conj_Ground_state_ansatz,[i for i in range(N,2*N)])\n",
    "    total_Ground_state_ansatz = total_Ground_state_ansatz.compose(meas(N))\n",
    "\n",
    "    # Get 2-nd Renyi EE\n",
    "    shot_times=100\n",
    "    sampler = Sampler()\n",
    "    job = sampler.run(total_Ground_state_ansatz)\n",
    "    Renyi_EE_quan = job.result().quasi_dists[0][0]\n",
    "        #Renyi_EE_quan_list_AE.append(Renyi_EE_quan)\n",
    "        \n",
    "    qu_re_AE_1st.append(Renyi_EE_quan)"
   ]
  },
  {
   "cell_type": "code",
   "execution_count": 33,
   "metadata": {},
   "outputs": [],
   "source": [
    "\n",
    "# Take into account 10 samples\n",
    "# Renyi_EE_quan_list_AE = []\n",
    "# for _ in range(10):\n",
    "# Adiabatic Evolution\n",
    "# ground state is |1010...10>\n",
    "AE = QuantumCircuit(N)\n",
    "for i in range(AE.num_qubits):\n",
    "    if i%2 ==1:\n",
    "        AE.x(i)\n",
    "\n",
    "for i in range(int(M/2)):\n",
    "    AE = H_evol_2nd(AE,i,M,m,x,del_t)\n",
    "\n",
    "# Aplly JW transformation gates\n",
    "AE.append(gate_JW(N),[ i for i in range(N)])\n",
    "\n",
    "# Build |psi> and <psi| from transpile circuit\n",
    "tran_Ground_state_ansatz = transpile(AE,basis_gates=['cx','rz','rx','ry'])\n",
    "state_Ground_state_ansatz = tran_Ground_state_ansatz.to_gate(label=r' $|\\psi\\rangle$ ')\n",
    "conj_Ground_state_ansatz = tran_Ground_state_ansatz.inverse().to_gate(label=r' $\\langle\\psi|$ ') \n",
    "for A in running_list:\n",
    "    # SWAP gate method circuit for calculating 2-nd Renyi EE\n",
    "    total_Ground_state_ansatz = QuantumCircuit(2*N)\n",
    "    total_Ground_state_ansatz.append(state_Ground_state_ansatz,[i for i in range(N)])\n",
    "    total_Ground_state_ansatz.append(state_Ground_state_ansatz,[i for i in range(N,2*N)])\n",
    "    for i in A:\n",
    "        total_Ground_state_ansatz.swap(i,N+i)\n",
    "    total_Ground_state_ansatz.append(conj_Ground_state_ansatz,[i for i in range(N)])\n",
    "    total_Ground_state_ansatz.append(conj_Ground_state_ansatz,[i for i in range(N,2*N)])\n",
    "    total_Ground_state_ansatz = total_Ground_state_ansatz.compose(meas(N))\n",
    "\n",
    "    # Get 2-nd Renyi EE\n",
    "    shot_times=100\n",
    "    sampler = Sampler()\n",
    "    job = sampler.run(total_Ground_state_ansatz)\n",
    "    Renyi_EE_quan = job.result().quasi_dists[0][0]\n",
    "        #Renyi_EE_quan_list_AE.append(Renyi_EE_quan)\n",
    "        \n",
    "    qu_re_AE_2nd.append(Renyi_EE_quan)"
   ]
  },
  {
   "cell_type": "markdown",
   "metadata": {},
   "source": [
    "*Plot*"
   ]
  },
  {
   "cell_type": "code",
   "execution_count": 34,
   "metadata": {},
   "outputs": [],
   "source": [
    "# Calculate 2-nd Renyi EE from the Trace of reduced density matrix\n",
    "cl_re= -log(sqrt(cl_re))\n",
    "qu_re_VQE = -log(sqrt(qu_re_VQE))\n",
    "qu_re_AE_1st = -log(sqrt(qu_re_AE_1st))\n",
    "qu_re_AE_2nd = -log(sqrt(qu_re_AE_2nd))"
   ]
  },
  {
   "cell_type": "code",
   "execution_count": 36,
   "metadata": {},
   "outputs": [],
   "source": [
    "# Calculate mean and standard deviation from list data\n",
    "# Use in the case that we use sampler simulator\n",
    "qu_mean_VQE = []\n",
    "qu_std_VQE = []\n",
    "qu_mean_AE_1st = []\n",
    "qu_std_AE_1st = []\n",
    "qu_mean_AE_2nd = []\n",
    "qu_std_AE_2nd = []\n",
    "for i in range(len(qu_re_VQE)):\n",
    "    qu_mean_VQE.append(mean(qu_re_VQE[i])) \n",
    "    qu_std_VQE.append(std(qu_re_VQE[i]))\n",
    "    qu_mean_AE_1st.append(mean(qu_re_AE_1st[i])) \n",
    "    qu_std_AE_1st.append(std(qu_re_AE_1st[i]))\n",
    "    qu_mean_AE_2nd.append(mean(qu_re_AE_2nd[i])) \n",
    "    qu_std_AE_2nd.append(std(qu_re_AE_2nd[i]))"
   ]
  },
  {
   "cell_type": "code",
   "execution_count": 35,
   "metadata": {},
   "outputs": [],
   "source": [
    "# calculate deviation from classical solution\n",
    "devi_VQE = []\n",
    "devi_AE_1st = []\n",
    "devi_AE_2nd = []\n",
    "for i in range(len(cl_re)):\n",
    "    \n",
    "    devi_VQE.append((qu_re_VQE[i]-cl_re[i]))\n",
    "    devi_AE_1st.append((qu_re_AE_1st[i]-cl_re[i]))\n",
    "    devi_AE_2nd.append((qu_re_AE_2nd[i]-cl_re[i]))\n",
    "    \n",
    "    # devi_VQE.append((qu_mean_VQE[i]-cl_re[i])/qu_std_VQE[i])\n",
    "    # devi_AE_1st.append((qu_mean_AE_1st[i]-cl_re[i])/qu_std_AE_1st[i])\n",
    "    # devi_AE_2nd.append((qu_mean_AE_2nd[i]-cl_re[i])/qu_std_AE_2nd[i])"
   ]
  },
  {
   "cell_type": "code",
   "execution_count": 36,
   "metadata": {},
   "outputs": [],
   "source": [
    "running_list = [i for i in range(1,6)]"
   ]
  },
  {
   "cell_type": "code",
   "execution_count": 40,
   "metadata": {},
   "outputs": [
    {
     "data": {
      "image/png": "[encoded data removed]",
      "text/plain": [
       "<Figure size 432x288 with 2 Axes>"
      ]
     },
     "metadata": {
      "needs_background": "light"
     },
     "output_type": "display_data"
    }
   ],
   "source": [
    "fig, (ax0, ax1) = plt.subplots(nrows=2, sharex=True, gridspec_kw={'height_ratios': [3, 1]})\n",
    "fig.subplots_adjust(hspace=0.05)\n",
    "ax0.plot(running_list, cl_re, 'b-',label='Classical diagonal method')\n",
    "\n",
    "ax0.plot(running_list, qu_re_VQE, 'ro',label='VQE qiskit (RealAmplitude, Cobyla, Full entangle-map)')\n",
    "ax0.plot(running_list, qu_re_AE_1st, 'b*' ,label=r'AE 1st-Trotter ($ \\delta t =0.1$, 200 time steps)')\n",
    "ax0.plot(running_list, qu_re_AE_2nd, 'g^',label=r'AE 2nd-Trotter( $ \\delta t =0.1$, 100 time steps)')\n",
    "\n",
    "# ax0.errorbar(running_list, qu_mean_VQE, yerr=qu_std_VQE, fmt = 'o', color = 'red',label='VQE qiskit (RealAmplitude, Cobyla, Full entangle-map)')\n",
    "# ax0.errorbar(running_list, qu_mean_AE_1st, yerr=qu_std_AE_1st, fmt = 'o', color = 'blue',label=r'AE 1st-Trotter ($ \\delta t =0.1$, 200 time steps)')\n",
    "# ax0.errorbar(running_list, qu_mean_AE_2nd, yerr=qu_std_AE_2nd, fmt = 'o', color = 'green',label=r'AE 2nd-Trotter( $ \\delta t =0.1$, 100 time steps)')\n",
    "\n",
    "ax0.legend(loc='best', fontsize = 'small')\n",
    "ax0.set_title(r' 2-nd Renyi Entanglement Entropy (7 qubit)')\n",
    "ax0.set_yticks(arange(0.1,0.5,0.1))\n",
    "ax0.set_ylim(0.1,0.5)\n",
    "ax0.set_ylabel(r' $S_2 = -Log\\left[Tr\\left(\\rho_A^2\\right)\\right]$ ')\n",
    "ax0.grid()\n",
    "ax1.plot(running_list, devi_VQE, 'ro')\n",
    "ax1.plot(running_list, devi_AE_1st, 'b*')\n",
    "ax1.plot(running_list, devi_AE_2nd, 'g^')\n",
    "ax1.set_xlabel('l (length of subregion)')\n",
    "# ax1.axhline(y=0,color = 'black', linestyle = 'dashed')\n",
    "ax1.set_ylabel('Deviation')\n",
    "fig.gca().yaxis.set_major_formatter(FormatStrFormatter(r'%.1f'))\n",
    "# fig.gca().yaxis.set_major_formatter(FormatStrFormatter(r'%.1f $\\sigma$'))\n",
    "ax1.grid()\n",
    "plt.show()\n",
    "fig.savefig('aaaaa.png')"
   ]
  },
  {
   "cell_type": "markdown",
   "metadata": {},
   "source": [
    "# Adiabatic Evolution"
   ]
  },
  {
   "cell_type": "code",
   "execution_count": 235,
   "metadata": {},
   "outputs": [],
   "source": [
    "# input parameters\n",
    "N = 4\n",
    "m = 1\n",
    "x = 1\n",
    "del_t = 0.1 # time interval\n",
    "M = 3000 # time step"
   ]
  },
  {
   "cell_type": "code",
   "execution_count": null,
   "metadata": {},
   "outputs": [],
   "source": [
    "Hal =  Hamil_Schw(N,m,x)\n",
    "\n",
    "# Classical solver\n",
    "w,v = linalg.eig(Hal)\n",
    "# print(\"Eigenvectors:\",v)\n",
    "# print(\"Eigenvalues:\", w)\n",
    "\n",
    "# Find ground state and energy in ensemble solutions\n",
    "minimum=w[0]\n",
    "min_spot=0\n",
    "for i in range(1,2**N):\n",
    "    if w[i]<minimum:\n",
    "        min_spot=i\n",
    "        minimum=w[i]                   \n",
    "groundstate = v[:,min_spot]\n",
    "# print(\"Ground State\")\n",
    "# print(groundstate)\n",
    "# print(\"Ground Energy\")\n",
    "# print(minimum)"
   ]
  },
  {
   "cell_type": "code",
   "execution_count": 7,
   "metadata": {},
   "outputs": [],
   "source": [
    "# Evolution operator\n",
    "# Apply first-order Trotter decomposition\n",
    "def H_evol_1st(qc,n,M,m,x,del_t):\n",
    "    N = qc.num_qubits\n",
    "    for i in range(N-1):\n",
    "        m_0 = 0.1\n",
    "        # Create mass terms\n",
    "        qc.rz(((-1)**(i+1)*m*n/M+m_0*(1-n/M))*del_t,i)\n",
    "        if i == (N-2):\n",
    "            qc.rz(((-1)**(i+2)*m*n/M+m_0*(1-n/M))*del_t,i+1)\n",
    "        # Create gauge terms\n",
    "        if i % 2 ==0:\n",
    "            for j in range(i+1):\n",
    "                qc.rz(-1*del_t,j)\n",
    "        for j in range(i):\n",
    "            for k in range(j+1,i+1):\n",
    "                qc.rzz(1*del_t,j,k)\n",
    "    # Create kinematic terms\n",
    "    for i in range(N-1):\n",
    "        qc.rxx(x*n/M*del_t,i,i+1)\n",
    "        qc.ryy(x*n/M*del_t,i,i+1)\n",
    "    return qc"
   ]
  },
  {
   "cell_type": "code",
   "execution_count": 8,
   "metadata": {},
   "outputs": [],
   "source": [
    "# Evolution operator\n",
    "# Apply second-order Trotter decomposition\n",
    "def H_evol_2nd(qc,n,M,m,x,del_t):\n",
    "    N = qc.num_qubits\n",
    "    # Create kinematic terms (first layer)\n",
    "    for i in range(N-1):\n",
    "        qc.ryy(1/2*x*n/M*del_t,i,i+1)\n",
    "        qc.rxx(1/2*x*n/M*del_t,i,i+1)\n",
    "    for i in range(N-1):\n",
    "        m_0 = 0.1\n",
    "        # Create mass terms\n",
    "        qc.rz(((-1)**(i+1)*m*n/M+m_0*(1-n/M))*del_t,i)\n",
    "        if i == (N-2):\n",
    "            qc.rz(((-1)**(i+2)*m*n/M+m_0*(1-n/M))*del_t,i+1)\n",
    "        # Create gauge terms\n",
    "        if i % 2 ==0:\n",
    "            for j in range(i+1):\n",
    "                qc.rz(-1*del_t,j)\n",
    "        for j in range(i):\n",
    "            for k in range(j+1,i+1):\n",
    "                qc.rzz(1*del_t,j,k)\n",
    "    # Create kinematic terms (second layer)\n",
    "    for i in range(N-1):\n",
    "        qc.rxx(1/2*x*n/M*del_t,i,i+1)\n",
    "        qc.ryy(1/2*x*n/M*del_t,i,i+1)\n",
    "    return qc"
   ]
  },
  {
   "cell_type": "code",
   "execution_count": null,
   "metadata": {},
   "outputs": [],
   "source": [
    "# ground state is |1010...10>\n",
    "qc = QuantumCircuit(N)\n",
    "for i in range(qc.num_qubits):\n",
    "    if i%2 ==1:\n",
    "        qc.x(i)\n",
    "# Adiabatic evolution in time step M\n",
    "for i in range(M):\n",
    "    qc = H_evol_1st(qc,i,M,m,x,del_t)"
   ]
  },
  {
   "cell_type": "code",
   "execution_count": null,
   "metadata": {},
   "outputs": [],
   "source": [
    "# ground state is |1010...10>\n",
    "qc_2nd = QuantumCircuit(N)\n",
    "for i in range(qc_2nd.num_qubits):\n",
    "    if i%2 ==1:\n",
    "        qc_2nd.x(i)\n",
    "# Adiabatic evolution in time step M\n",
    "for i in range(int(M/2)):\n",
    "    qc_2nd = H_evol_2nd(qc_2nd,i,M,m,x,del_t)"
   ]
  },
  {
   "cell_type": "code",
   "execution_count": null,
   "metadata": {},
   "outputs": [],
   "source": [
    "state_fidelity(Statevector(qc),Statevector(groundstate))"
   ]
  },
  {
   "cell_type": "code",
   "execution_count": null,
   "metadata": {},
   "outputs": [],
   "source": [
    "state_fidelity(Statevector(qc_2nd),Statevector(groundstate))"
   ]
  }
 ],
 "metadata": {
  "interpreter": {
   "hash": "aee8b7b246df8f9039afb4144a1f6fd8d2ca17a180786b69acc140d282b71a49"
  },
  "kernelspec": {
   "display_name": "Python 3.9.5 64-bit",
   "language": "python",
   "name": "python3"
  },
  "language_info": {
   "codemirror_mode": {
    "name": "ipython",
    "version": 3
   },
   "file_extension": ".py",
   "mimetype": "text/x-python",
   "name": "python",
   "nbconvert_exporter": "python",
   "pygments_lexer": "ipython3",
   "version": "3.9.13"
  },
  "orig_nbformat": 4
 },
 "nbformat": 4,
 "nbformat_minor": 2
}
