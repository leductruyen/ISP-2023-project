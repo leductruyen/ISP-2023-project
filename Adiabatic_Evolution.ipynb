{
 "cells": [
  {
   "cell_type": "code",
   "execution_count": 1,
   "metadata": {},
   "outputs": [],
   "source": [
    "from qiskit import QuantumCircuit, transpile, QuantumRegister,ClassicalRegister ,execute, Aer\n",
    "from qiskit.circuit.library import TwoLocal, EfficientSU2, RealAmplitudes\n",
    "from qiskit.primitives import Estimator, Sampler\n",
    "from qiskit_algorithms.minimum_eigensolvers import VQE \n",
    "from qiskit_algorithms.optimizers import COBYLA, SPSA\n",
    "from qiskit.quantum_info import SparsePauliOp, Pauli, state_fidelity, random_statevector\n",
    "from qiskit.extensions import RZGate, UnitaryGate\n",
    "from qiskit.quantum_info import Operator, Statevector\n",
    "from numpy import sqrt, diag, array,conjugate,transpose, append, dot, abs, pi, linalg, log, sqrt,arange, mean, std, exp\n",
    "import matplotlib.pyplot as plt\n",
    "from matplotlib.ticker import FormatStrFormatter\n",
    "from random import *"
   ]
  },
  {
   "cell_type": "code",
   "execution_count": 2,
   "metadata": {},
   "outputs": [],
   "source": [
    "def Hamil_Schw(N,m,x):\n",
    "    Hamil_Schw = 0\n",
    "    Hamil_Schw_kin_list= []\n",
    "    Hamil_Schw_mass_list= []\n",
    "    Hamil_Schw_gauge_list= []\n",
    "    for i in range(N-1):\n",
    "        # Create mass terms\n",
    "        Hamil_Schw_mass_list.append((\"Z\", [i], (-1)**(i+1)*m/2))\n",
    "        if i == (N-2):\n",
    "            Hamil_Schw_mass_list.append((\"Z\", [i+1], (-1)**(i+2)*m/2))\n",
    "        # Create kinematic terms\n",
    "        Hamil_Schw_kin_list.append(((\"XX\", [i,i+1], x/2)))\n",
    "        Hamil_Schw_kin_list.append(((\"YY\", [i,i+1], x/2)))\n",
    "        # Create gauge terms\n",
    "        if i % 2 ==0:\n",
    "            for j in range(i+1):\n",
    "                Hamil_Schw_gauge_list.append((\"Z\", [j], -1/2))\n",
    "        for j in range(i):\n",
    "            for k in range(j+1,i+1):\n",
    "                Hamil_Schw_gauge_list.append((\"ZZ\",[j,k],1/2))\n",
    "    # Get in total\n",
    "    Hamil_Schw = Hamil_Schw_kin_list+Hamil_Schw_mass_list+Hamil_Schw_gauge_list\n",
    "    # Create Hamiltonian operator from the defined list\n",
    "    Hamil_Schw = SparsePauliOp.from_sparse_list(Hamil_Schw, num_qubits=N)\n",
    "    return Hamil_Schw\n"
   ]
  },
  {
   "cell_type": "code",
   "execution_count": 112,
   "metadata": {},
   "outputs": [],
   "source": [
    "N = 5\n",
    "m = 18\n",
    "x = 1\n",
    "del_t = 0.1\n",
    "M = 200"
   ]
  },
  {
   "cell_type": "code",
   "execution_count": 113,
   "metadata": {},
   "outputs": [],
   "source": [
    "Hal =  Hamil_Schw(N,m,x)\n",
    "\n",
    "# Classical solver\n",
    "w,v = linalg.eig(Hal)\n",
    "# print(\"Eigenvectors:\",v)\n",
    "# print(\"Eigenvalues:\", w)\n",
    "\n",
    "# Find ground state and energy in ensemble solutions\n",
    "minimum=w[0]\n",
    "min_spot=0\n",
    "for i in range(1,2**N):\n",
    "    if w[i]<minimum:\n",
    "        min_spot=i\n",
    "        minimum=w[i]                   \n",
    "groundstate = v[:,min_spot]\n",
    "# print(\"Ground State\")\n",
    "# print(groundstate)\n",
    "# print(\"Ground Energy\")\n",
    "# print(minimum)"
   ]
  },
  {
   "cell_type": "code",
   "execution_count": 114,
   "metadata": {},
   "outputs": [],
   "source": [
    "# Apply first-order Trotter decomposition\n",
    "def H_evol_1st(qc,n,M,m,x,del_t):\n",
    "    N = qc.num_qubits\n",
    "    for i in range(N-1):\n",
    "        m_0 = 0.1\n",
    "        # Create mass terms\n",
    "        qc.rz(((-1)**(i+1)*m*n/M+m_0*(1-n/M))*del_t,i)\n",
    "        if i == (N-2):\n",
    "            qc.rz(((-1)**(i+2)*m*n/M+m_0*(1-n/M))*del_t,i+1)\n",
    "        # Create gauge terms\n",
    "        if i % 2 ==0:\n",
    "            for j in range(i+1):\n",
    "                qc.rz(-1*del_t,j)\n",
    "        for j in range(i):\n",
    "            for k in range(j+1,i+1):\n",
    "                qc.rzz(1*del_t,j,k)\n",
    "    # Create kinematic terms\n",
    "    for i in range(N-1):\n",
    "        qc.rxx(x*n/M*del_t,i,i+1)\n",
    "        qc.ryy(x*n/M*del_t,i,i+1)\n",
    "    return qc"
   ]
  },
  {
   "cell_type": "code",
   "execution_count": 115,
   "metadata": {},
   "outputs": [],
   "source": [
    "# Apply second-order Trotter decomposition\n",
    "def H_evol_2nd(qc,n,M,m,x,del_t):\n",
    "    N = qc.num_qubits\n",
    "    # Create kinematic terms (first layer)\n",
    "    for i in range(N-1):\n",
    "        qc.ryy(1/2*x*n/M*del_t,i,i+1)\n",
    "        qc.rxx(1/2*x*n/M*del_t,i,i+1)\n",
    "    for i in range(N-1):\n",
    "        m_0 = 0.1\n",
    "        # Create mass terms\n",
    "        qc.rz(((-1)**(i+1)*m*n/M+m_0*(1-n/M))*del_t,i)\n",
    "        if i == (N-2):\n",
    "            qc.rz(((-1)**(i+2)*m*n/M+m_0*(1-n/M))*del_t,i+1)\n",
    "        # Create gauge terms\n",
    "        if i % 2 ==0:\n",
    "            for j in range(i+1):\n",
    "                qc.rz(-1*del_t,j)\n",
    "        for j in range(i):\n",
    "            for k in range(j+1,i+1):\n",
    "                qc.rzz(1*del_t,j,k)\n",
    "    # Create kinematic terms (second layer)\n",
    "    for i in range(N-1):\n",
    "        qc.rxx(1/2*x*n/M*del_t,i,i+1)\n",
    "        qc.ryy(1/2*x*n/M*del_t,i,i+1)\n",
    "    return qc"
   ]
  },
  {
   "cell_type": "code",
   "execution_count": 116,
   "metadata": {},
   "outputs": [],
   "source": [
    "# ground state is |1010...10>\n",
    "qc = QuantumCircuit(N)\n",
    "for i in range(qc.num_qubits):\n",
    "    if i%2 ==1:\n",
    "        qc.x(i)\n",
    "\n",
    "for i in range(M):\n",
    "    qc = H_evol_1st(qc,i,M,m,x,del_t)"
   ]
  },
  {
   "cell_type": "code",
   "execution_count": 117,
   "metadata": {},
   "outputs": [],
   "source": [
    "# ground state is |1010...10>\n",
    "qc_2nd = QuantumCircuit(N)\n",
    "for i in range(qc_2nd.num_qubits):\n",
    "    if i%2 ==1:\n",
    "        qc_2nd.x(i)\n",
    "\n",
    "for i in range(int(M/2)):\n",
    "    qc_2nd = H_evol_2nd(qc_2nd,i,M,m,x,del_t)"
   ]
  },
  {
   "cell_type": "code",
   "execution_count": 118,
   "metadata": {},
   "outputs": [
    {
     "data": {
      "text/plain": [
       "0.9760145479304928"
      ]
     },
     "execution_count": 118,
     "metadata": {},
     "output_type": "execute_result"
    }
   ],
   "source": [
    "state_fidelity(Statevector(qc),Statevector(groundstate))"
   ]
  },
  {
   "cell_type": "code",
   "execution_count": 119,
   "metadata": {},
   "outputs": [
    {
     "data": {
      "text/plain": [
       "0.9990365427678747"
      ]
     },
     "execution_count": 119,
     "metadata": {},
     "output_type": "execute_result"
    }
   ],
   "source": [
    "state_fidelity(Statevector(qc_2nd),Statevector(groundstate))"
   ]
  },
  {
   "cell_type": "code",
   "execution_count": 183,
   "metadata": {},
   "outputs": [],
   "source": [
    "N = 7\n",
    "x = 1\n",
    "del_t = 0.1\n",
    "M = 200\n",
    "fid_1st = []\n",
    "fid_2nd = []"
   ]
  },
  {
   "cell_type": "code",
   "execution_count": 184,
   "metadata": {},
   "outputs": [],
   "source": [
    "for m in range(0,5):\n",
    "    m = m*3\n",
    "    # Classical solver\n",
    "    Hal =  Hamil_Schw(N,m,x)\n",
    "    w,v = linalg.eig(Hal)\n",
    "    # Find ground state and energy in ensemble solutions\n",
    "    minimum=w[0]\n",
    "    min_spot=0\n",
    "    for i in range(1,2**N):\n",
    "        if w[i]<minimum:\n",
    "            min_spot=i\n",
    "            minimum=w[i]                   \n",
    "    groundstate = v[:,min_spot]\n",
    "\n",
    "    # 1_st\n",
    "    qc = QuantumCircuit(N)\n",
    "    for i in range(qc.num_qubits):\n",
    "        if i%2 ==1:\n",
    "            qc.x(i)\n",
    "    for i in range(M):\n",
    "        qc = H_evol_1st(qc,i,M,m,x,del_t)\n",
    "    fid_1st.append(state_fidelity(Statevector(qc),Statevector(groundstate)))\n",
    "\n",
    "    # 2-nd\n",
    "    qc_2nd = QuantumCircuit(N)\n",
    "    for i in range(qc_2nd.num_qubits):\n",
    "        if i%2 ==1:\n",
    "            qc_2nd.x(i)\n",
    "    for i in range(int(M/2)):\n",
    "        qc_2nd = H_evol_2nd(qc_2nd,i,M,m,x,del_t)\n",
    "    fid_2nd.append(state_fidelity(Statevector(qc_2nd),Statevector(groundstate)))"
   ]
  },
  {
   "cell_type": "code",
   "execution_count": 187,
   "metadata": {},
   "outputs": [],
   "source": [
    "qubit_list = [i*3 for i in range(0,5)]"
   ]
  },
  {
   "cell_type": "code",
   "execution_count": 189,
   "metadata": {},
   "outputs": [
    {
     "data": {
      "image/png": "[encoded data removed]",
      "text/plain": [
       "<Figure size 432x288 with 1 Axes>"
      ]
     },
     "metadata": {
      "needs_background": "light"
     },
     "output_type": "display_data"
    }
   ],
   "source": [
    "plt.plot(qubit_list, fid_1st, 'bo',label='1-st Trotter')\n",
    "plt.plot(qubit_list, fid_2nd, 'ro',label='2-nd Trotter')\n",
    "plt.ylabel('Fidelity')\n",
    "plt.xlabel('Dimensionless mass')\n",
    "plt.grid()\n",
    "plt.legend(loc='best', fontsize = 'small')\n",
    "plt.title('Fidelity between true (classical method) ground state and\\nAdiabatic Evolution ground states in two Trotter decompositions')\n",
    "plt.show()"
   ]
  }
 ],
 "metadata": {
  "interpreter": {
   "hash": "aee8b7b246df8f9039afb4144a1f6fd8d2ca17a180786b69acc140d282b71a49"
  },
  "kernelspec": {
   "display_name": "Python 3.9.5 64-bit",
   "language": "python",
   "name": "python3"
  },
  "language_info": {
   "codemirror_mode": {
    "name": "ipython",
    "version": 3
   },
   "file_extension": ".py",
   "mimetype": "text/x-python",
   "name": "python",
   "nbconvert_exporter": "python",
   "pygments_lexer": "ipython3",
   "version": "3.9.13"
  },
  "orig_nbformat": 4
 },
 "nbformat": 4,
 "nbformat_minor": 2
}
